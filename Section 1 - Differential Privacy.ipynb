{
 "cells": [
  {
   "cell_type": "markdown",
   "metadata": {},
   "source": [
    "## Lesson: Toy Differential Privacy - Simple Database Queries"
   ]
  },
  {
   "cell_type": "markdown",
   "metadata": {},
   "source": [
    "In this section we're going to play around with Differential Privacy in the context of a database query. The database is going to be a VERY simple database with only one boolean column. Each row corresponds to a person. Each value corresponds to whether or not that person has a certain private attribute (such as whether they have a certain disease, or whether they are above/below a certain age). We are then going to learn how to know whether a database query over such a small database is differentially private or not - and more importantly - what techniques are at our disposal to ensure various levels of privacy\n",
    "\n",
    "\n",
    "### First We Create a Simple Database\n",
    "\n",
    "Step one is to create our database - we're going to do this by initializing a random list of 1s and 0s (which are the entries in our database). Note - the number of entries directly corresponds to the number of people in our database."
   ]
  },
  {
   "cell_type": "code",
   "execution_count": 1,
   "metadata": {},
   "outputs": [
    {
     "data": {
      "text/plain": [
       "tensor([0, 1, 1,  ..., 0, 0, 1], dtype=torch.uint8)"
      ]
     },
     "execution_count": 1,
     "metadata": {},
     "output_type": "execute_result"
    }
   ],
   "source": [
    "import torch\n",
    "\n",
    "# the number of entries in our database\n",
    "num_entries = 5000\n",
    "\n",
    "db = torch.rand(num_entries) > 0.5\n",
    "db"
   ]
  },
  {
   "cell_type": "markdown",
   "metadata": {},
   "source": [
    "## Project: Generate Parallel Databases\n",
    "\n",
    "Key to the definition of differenital privacy is the ability to ask the question \"When querying a database, if I removed someone from the database, would the output of the query be any different?\". Thus, in order to check this, we must construct what we term \"parallel databases\" which are simply databases with one entry removed. \n",
    "\n",
    "In this first project, I want you to create a list of every parallel database to the one currently contained in the \"db\" variable. Then, I want you to create a function which both:\n",
    "\n",
    "- creates the initial database (db)\n",
    "- creates all parallel databases"
   ]
  },
  {
   "cell_type": "code",
   "execution_count": 95,
   "metadata": {},
   "outputs": [],
   "source": [
    "def mk_dbs(num_entries: int, p=0.5):\n",
    "    db = torch.rand(num_entries) > (1-p)\n",
    "    dbs = [torch.cat((db[0:i], db[i+1:])) for i in range(len(db))]\n",
    "    return db, dbs"
   ]
  },
  {
   "cell_type": "code",
   "execution_count": 3,
   "metadata": {},
   "outputs": [],
   "source": [
    "db, dbs = mk_dbs(5000)"
   ]
  },
  {
   "cell_type": "markdown",
   "metadata": {},
   "source": [
    "# Lesson: Towards Evaluating The Differential Privacy of a Function\n",
    "\n",
    "Intuitively, we want to be able to query our database and evaluate whether or not the result of the query is leaking \"private\" information. As mentioned previously, this is about evaluating whether the output of a query changes when we remove someone from the database. Specifically, we want to evaluate the *maximum* amount the query changes when someone is removed (maximum over all possible people who could be removed). So, in order to evaluate how much privacy is leaked, we're going to iterate over each person in the database and measure the difference in the output of the query relative to when we query the entire database. \n",
    "\n",
    "Just for the sake of argument, let's make our first \"database query\" a simple sum. Aka, we're going to count the number of 1s in the database."
   ]
  },
  {
   "cell_type": "code",
   "execution_count": 4,
   "metadata": {},
   "outputs": [],
   "source": [
    "db, pdbs = mk_dbs(5000)"
   ]
  },
  {
   "cell_type": "code",
   "execution_count": 5,
   "metadata": {},
   "outputs": [],
   "source": [
    "def query(db):\n",
    "    return db.sum()"
   ]
  },
  {
   "cell_type": "code",
   "execution_count": 6,
   "metadata": {},
   "outputs": [],
   "source": [
    "full_db_result = query(db)"
   ]
  },
  {
   "cell_type": "code",
   "execution_count": 7,
   "metadata": {},
   "outputs": [],
   "source": [
    "sensitivity = 0\n",
    "for pdb in pdbs:\n",
    "    pdb_result = query(pdb)\n",
    "    \n",
    "    db_distance = torch.abs(pdb_result - full_db_result)\n",
    "    \n",
    "    if(db_distance > sensitivity):\n",
    "        sensitivity = db_distance"
   ]
  },
  {
   "cell_type": "code",
   "execution_count": 8,
   "metadata": {},
   "outputs": [
    {
     "data": {
      "text/plain": [
       "tensor(1)"
      ]
     },
     "execution_count": 8,
     "metadata": {},
     "output_type": "execute_result"
    }
   ],
   "source": [
    "sensitivity"
   ]
  },
  {
   "cell_type": "markdown",
   "metadata": {},
   "source": [
    "# Project - Evaluating the Privacy of a Function\n",
    "\n",
    "In the last section, we measured the difference between each parallel db's query result and the query result for the entire database and then calculated the max value (which was 1). This value is called \"sensitivity\", and it corresponds to the function we chose for the query. Namely, the \"sum\" query will always have a sensitivity of exactly 1. However, we can also calculate sensitivity for other functions as well.\n",
    "\n",
    "Let's try to calculate sensitivity for the \"mean\" function."
   ]
  },
  {
   "cell_type": "code",
   "execution_count": 9,
   "metadata": {},
   "outputs": [],
   "source": [
    "def sensitivity(query, num_entries: int) -> torch.Tensor:\n",
    "    db, pdbs = mk_dbs(num_entries)\n",
    "    full_db_result = query(db)\n",
    "    return max([torch.abs(query(pdb) - full_db_result) for pdb in pdbs])"
   ]
  },
  {
   "cell_type": "code",
   "execution_count": 10,
   "metadata": {},
   "outputs": [
    {
     "data": {
      "text/plain": [
       "tensor(0.)"
      ]
     },
     "execution_count": 10,
     "metadata": {},
     "output_type": "execute_result"
    }
   ],
   "source": [
    "sensitivity(lambda db: db.max().type(torch.FloatTensor), 5)"
   ]
  },
  {
   "cell_type": "markdown",
   "metadata": {},
   "source": [
    "Wow! That sensitivity is WAY lower. Note the intuition here. \"Sensitivity\" is measuring how sensitive the output of the query is to a person being removed from the database. For a simple sum, this is always 1, but for the mean, removing a person is going to change the result of the query by rougly 1 divided by the size of the database (which is much smaller). Thus, \"mean\" is a VASTLY less \"sensitive\" function (query) than SUM."
   ]
  },
  {
   "cell_type": "markdown",
   "metadata": {},
   "source": [
    "# Project: Calculate L1 Sensitivity For Threshold\n",
    "\n",
    "In this first project, I want you to calculate the sensitivty for the \"threshold\" function. \n",
    "\n",
    "- First compute the sum over the database (i.e. sum(db)) and return whether that sum is greater than a certain threshold.\n",
    "- Then, I want you to create databases of size 10 and threshold of 5 and calculate the sensitivity of the function. \n",
    "- Finally, re-initialize the database 10 times and calculate the sensitivity each time."
   ]
  },
  {
   "cell_type": "code",
   "execution_count": 11,
   "metadata": {},
   "outputs": [],
   "source": [
    "def threshold_query(threshold):\n",
    "    return lambda db: (db.sum() > threshold).float()"
   ]
  },
  {
   "cell_type": "code",
   "execution_count": 12,
   "metadata": {},
   "outputs": [
    {
     "data": {
      "text/plain": [
       "tensor(0.)"
      ]
     },
     "execution_count": 12,
     "metadata": {},
     "output_type": "execute_result"
    }
   ],
   "source": [
    "sensitivity(threshold_query(5), 10)"
   ]
  },
  {
   "cell_type": "code",
   "execution_count": 13,
   "metadata": {},
   "outputs": [
    {
     "name": "stdout",
     "output_type": "stream",
     "text": [
      "tensor(0.)\n",
      "tensor(0.)\n",
      "tensor(1.)\n",
      "tensor(0.)\n",
      "tensor(0.)\n",
      "tensor(0.)\n",
      "tensor(0.)\n",
      "tensor(0.)\n",
      "tensor(0.)\n",
      "tensor(0.)\n"
     ]
    }
   ],
   "source": [
    "for i in range(10):\n",
    "    print(sensitivity(threshold_query(5), 10))"
   ]
  },
  {
   "cell_type": "markdown",
   "metadata": {},
   "source": [
    "# Lesson: A Basic Differencing Attack\n",
    "\n",
    "Sadly none of the functions we've looked at so far are differentially private (despite them having varying levels of sensitivity). The most basic type of attack can be done as follows.\n",
    "\n",
    "Let's say we wanted to figure out a specific person's value in the database. All we would have to do is query for the sum of the entire database and then the sum of the entire database without that person!\n",
    "\n",
    "# Project: Perform a Differencing Attack on Row 10\n",
    "\n",
    "In this project, I want you to construct a database and then demonstrate how you can use two different sum queries to explose the value of the person represented by row 10 in the database (note, you'll need to use a database with at least 10 rows)"
   ]
  },
  {
   "cell_type": "code",
   "execution_count": 14,
   "metadata": {},
   "outputs": [
    {
     "data": {
      "text/plain": [
       "tensor(0)"
      ]
     },
     "execution_count": 14,
     "metadata": {},
     "output_type": "execute_result"
    }
   ],
   "source": [
    "db, _ = mk_dbs(100)\n",
    "def query(db): return db.sum()\n",
    "query(db) - query(torch.cat((db[:9], db[10:])))"
   ]
  },
  {
   "cell_type": "code",
   "execution_count": 15,
   "metadata": {},
   "outputs": [
    {
     "data": {
      "text/plain": [
       "tensor(0, dtype=torch.uint8)"
      ]
     },
     "execution_count": 15,
     "metadata": {},
     "output_type": "execute_result"
    }
   ],
   "source": [
    "db[9]"
   ]
  },
  {
   "cell_type": "code",
   "execution_count": null,
   "metadata": {
    "collapsed": true
   },
   "outputs": [],
   "source": []
  },
  {
   "cell_type": "markdown",
   "metadata": {},
   "source": [
    "# Project: Local Differential Privacy\n",
    "\n",
    "As you can see, the basic sum query is not differentially private at all! In truth, differential privacy always requires a form of randomness added to the query. Let me show you what I mean.\n",
    "\n",
    "### Randomized Response (Local Differential Privacy)\n",
    "\n",
    "Let's say I have a group of people I wish to survey about a very taboo behavior which I think they will lie about (say, I want to know if they have ever committed a certain kind of crime). I'm not a policeman, I'm just trying to collect statistics to understand the higher level trend in society. So, how do we do this? One technique is to add randomness to each person's response by giving each person the following instructions (assuming I'm asking a simple yes/no question):\n",
    "\n",
    "- Flip a coin 2 times.\n",
    "- If the first coin flip is heads, answer honestly\n",
    "- If the first coin flip is tails, answer according to the second coin flip (heads for yes, tails for no)!\n",
    "\n",
    "Thus, each person is now protected with \"plausible deniability\". If they answer \"Yes\" to the question \"have you committed X crime?\", then it might becasue they actually did, or it might be becasue they are answering according to a random coin flip. Each person has a high degree of protection. Furthermore, we can recover the underlying statistics with some accuracy, as the \"true statistics\" are simply averaged with a 50% probability. Thus, if we collect a bunch of samples and it turns out that 60% of people answer yes, then we know that the TRUE distribution is actually centered around 70%, because 70% averaged wtih 50% (a coin flip) is 60% which is the result we obtained. \n",
    "\n",
    "However, it should be noted that, especially when we only have a few samples, the this comes at the cost of accuracy. This tradeoff exists across all of Differential Privacy. The greater the privacy protection (plausible deniability) the less accurate the results. \n",
    "\n",
    "Let's implement this local DP for our database before!"
   ]
  },
  {
   "cell_type": "code",
   "execution_count": 51,
   "metadata": {},
   "outputs": [],
   "source": [
    "import numpy as np\n",
    "rng = np.random.RandomState(2)\n",
    "\n",
    "def add_noise(db):\n",
    "    return torch.tensor([act if det == 1 else mask\n",
    "            for act, det, mask in zip(db, rng.binomial(1, 0.5, len(db)), rng.binomial(1, 0.5, len(db)))])"
   ]
  },
  {
   "cell_type": "code",
   "execution_count": 64,
   "metadata": {},
   "outputs": [],
   "source": [
    "def test_size(n: int):\n",
    "    db, _ = mk_dbs(n)\n",
    "    dbn = add_noise(db)\n",
    "    print(\" original: {:0.4f}\".format(db.float().mean()))\n",
    "    print(\"    noisy: {:0.4f}\".format(dbn.float().mean()))\n",
    "    print(\"corrected: {:0.4f}\".format(dbn.float().mean()*2 - 0.5))"
   ]
  },
  {
   "cell_type": "code",
   "execution_count": 65,
   "metadata": {},
   "outputs": [
    {
     "name": "stdout",
     "output_type": "stream",
     "text": [
      " original: 0.7000\n",
      "    noisy: 0.7000\n",
      "corrected: 0.9000\n"
     ]
    }
   ],
   "source": [
    "test_size(10)"
   ]
  },
  {
   "cell_type": "code",
   "execution_count": 66,
   "metadata": {},
   "outputs": [
    {
     "name": "stdout",
     "output_type": "stream",
     "text": [
      " original: 0.5000\n",
      "    noisy: 0.5600\n",
      "corrected: 0.6200\n"
     ]
    }
   ],
   "source": [
    "test_size(100)"
   ]
  },
  {
   "cell_type": "code",
   "execution_count": 67,
   "metadata": {},
   "outputs": [
    {
     "name": "stdout",
     "output_type": "stream",
     "text": [
      " original: 0.5120\n",
      "    noisy: 0.4900\n",
      "corrected: 0.4800\n"
     ]
    }
   ],
   "source": [
    "test_size(1000)"
   ]
  },
  {
   "cell_type": "code",
   "execution_count": 68,
   "metadata": {},
   "outputs": [
    {
     "name": "stdout",
     "output_type": "stream",
     "text": [
      " original: 0.5063\n",
      "    noisy: 0.5007\n",
      "corrected: 0.5014\n"
     ]
    }
   ],
   "source": [
    "test_size(10000)"
   ]
  },
  {
   "cell_type": "markdown",
   "metadata": {},
   "source": [
    "# Project: Varying Amounts of Noise\n",
    "\n",
    "In this project, I want you to augment the randomized response query (the one we just wrote) to allow for varying amounts of randomness to be added. Specifically, I want you to bias the coin flip to be higher or lower and then run the same experiment. \n",
    "\n",
    "Note - this one is a bit tricker than you might expect. You need to both adjust the likelihood of the first coin flip AND the de-skewing at the end (where we create the \"augmented_result\" variable)."
   ]
  },
  {
   "cell_type": "code",
   "execution_count": 96,
   "metadata": {},
   "outputs": [],
   "source": [
    "def add_noise_p(db: torch.Tensor, p: float) -> torch.Tensor:\n",
    "    dets = (torch.rand(db.shape) > p).float()\n",
    "    masks = (torch.rand(db.shape) > 0.5).float()\n",
    "    return db * dets + (1-dets) * masks\n",
    "\n",
    "def test_size_p(n, p):\n",
    "    db, _ = mk_dbs(n, p=0.1)\n",
    "    db = db.float()\n",
    "    dbn = add_noise_p(db, p).float()\n",
    "    print(f\" original: {db.mean():0.4f}\")\n",
    "    print(f\"    noisy: {dbn.mean():0.4f}\")\n",
    "    print(f\"corrected: {(dbn.mean() - p*0.5) / (1-p):0.4f}\")"
   ]
  },
  {
   "cell_type": "code",
   "execution_count": 97,
   "metadata": {},
   "outputs": [
    {
     "name": "stdout",
     "output_type": "stream",
     "text": [
      " original: 0.0000\n",
      "    noisy: 0.4000\n",
      "corrected: 0.3000\n"
     ]
    }
   ],
   "source": [
    "test_size_p(10, 0.5)"
   ]
  },
  {
   "cell_type": "code",
   "execution_count": 98,
   "metadata": {},
   "outputs": [
    {
     "name": "stdout",
     "output_type": "stream",
     "text": [
      " original: 0.1060\n",
      "    noisy: 0.3060\n",
      "corrected: 0.1120\n"
     ]
    }
   ],
   "source": [
    "test_size_p(1000, 0.5)"
   ]
  },
  {
   "cell_type": "code",
   "execution_count": 100,
   "metadata": {},
   "outputs": [
    {
     "name": "stdout",
     "output_type": "stream",
     "text": [
      " original: 0.0980\n",
      "    noisy: 0.3840\n",
      "corrected: 0.0360\n"
     ]
    }
   ],
   "source": [
    "test_size_p(1000, 0.75)"
   ]
  },
  {
   "cell_type": "code",
   "execution_count": 101,
   "metadata": {},
   "outputs": [
    {
     "name": "stdout",
     "output_type": "stream",
     "text": [
      " original: 0.1110\n",
      "    noisy: 0.2080\n",
      "corrected: 0.1107\n"
     ]
    }
   ],
   "source": [
    "test_size_p(1000, 0.25)"
   ]
  },
  {
   "cell_type": "code",
   "execution_count": null,
   "metadata": {
    "collapsed": true
   },
   "outputs": [],
   "source": []
  },
  {
   "cell_type": "markdown",
   "metadata": {},
   "source": [
    "# Lesson: The Formal Definition of Differential Privacy\n",
    "\n",
    "The previous method of adding noise was called \"Local Differentail Privacy\" because we added noise to each datapoint individually. This is necessary for some situations wherein the data is SO sensitive that individuals do not trust noise to be added later. However, it comes at a very high cost in terms of accuracy. \n",
    "\n",
    "However, alternatively we can add noise AFTER data has been aggregated by a function. This kind of noise can allow for similar levels of protection with a lower affect on accuracy. However, participants must be able to trust that no-one looked at their datapoints _before_ the aggregation took place. In some situations this works out well, in others (such as an individual hand-surveying a group of people), this is less realistic.\n",
    "\n",
    "Nevertheless, global differential privacy is incredibly important because it allows us to perform differential privacy on smaller groups of individuals with lower amounts of noise. Let's revisit our sum functions."
   ]
  },
  {
   "cell_type": "code",
   "execution_count": 40,
   "metadata": {},
   "outputs": [
    {
     "data": {
      "text/plain": [
       "tensor(40.)"
      ]
     },
     "execution_count": 40,
     "metadata": {},
     "output_type": "execute_result"
    }
   ],
   "source": [
    "db, pdbs = create_db_and_parallels(100)\n",
    "\n",
    "def query(db):\n",
    "    return torch.sum(db.float())\n",
    "\n",
    "def M(db):\n",
    "    query(db) + noise\n",
    "\n",
    "query(db)"
   ]
  },
  {
   "cell_type": "markdown",
   "metadata": {},
   "source": [
    "So the idea here is that we want to add noise to the output of our function. We actually have two different kinds of noise we can add - Laplacian Noise or Gaussian Noise. However, before we do so at this point we need to dive into the formal definition of Differential Privacy.\n",
    "\n",
    "![alt text](dp_formula.png \"Title\")"
   ]
  },
  {
   "cell_type": "markdown",
   "metadata": {},
   "source": [
    "_Image From: \"The Algorithmic Foundations of Differential Privacy\" - Cynthia Dwork and Aaron Roth - https://www.cis.upenn.edu/~aaroth/Papers/privacybook.pdf_"
   ]
  },
  {
   "cell_type": "markdown",
   "metadata": {},
   "source": [
    "This definition does not _create_ differential privacy, instead it is a measure of how much privacy is afforded by a query M. Specifically, it's a comparison between running the query M on a database (x) and a parallel database (y). As you remember, parallel databases are defined to be the same as a full database (x) with one entry/person removed.\n",
    "\n",
    "Thus, this definition says that FOR ALL parallel databases, the maximum distance between a query on database (x) and the same query on database (y) will be e^epsilon, but that occasionally this constraint won't hold with probability delta. Thus, this theorem is called \"epsilon delta\" differential privacy.\n",
    "\n",
    "# Epsilon\n",
    "\n",
    "Let's unpack the intuition of this for a moment. \n",
    "\n",
    "Epsilon Zero: If a query satisfied this inequality where epsilon was set to 0, then that would mean that the query for all parallel databases outputed the exact same value as the full database. As you may remember, when we calculated the \"threshold\" function, often the Sensitivity was 0. In that case, the epsilon also happened to be zero.\n",
    "\n",
    "Epsilon One: If a query satisfied this inequality with epsilon 1, then the maximum distance between all queries would be 1 - or more precisely - the maximum distance between the two random distributions M(x) and M(y) is 1 (because all these queries have some amount of randomness in them, just like we observed in the last section).\n",
    "\n",
    "# Delta\n",
    "\n",
    "Delta is basically the probability that epsilon breaks. Namely, sometimes the epsilon is different for some queries than it is for others. For example, you may remember when we were calculating the sensitivity of threshold, most of the time sensitivity was 0 but sometimes it was 1. Thus, we could calculate this as \"epsilon zero but non-zero delta\" which would say that epsilon is perfect except for some probability of the time when it's arbitrarily higher. Note that this expression doesn't represent the full tradeoff between epsilon and delta."
   ]
  },
  {
   "cell_type": "markdown",
   "metadata": {},
   "source": [
    "# Lesson: How To Add Noise for Global Differential Privacy\n",
    "\n",
    "In this lesson, we're going to learn about how to take a query and add varying amounts of noise so that it satisfies a certain degree of differential privacy. In particular, we're going to leave behind the Local Differential privacy previously discussed and instead opt to focus on Global differential privacy. \n",
    "\n",
    "So, to sum up, this lesson is about adding noise to the output of our query so that it satisfies a certain epsilon-delta differential privacy threshold.\n",
    "\n",
    "There are two kinds of noise we can add - Gaussian Noise or Laplacian Noise. Generally speaking Laplacian is better, but both are still valid. Now to the hard question...\n",
    "\n",
    "### How much noise should we add?\n",
    "\n",
    "The amount of noise necessary to add to the output of a query is a function of four things:\n",
    "\n",
    "- the type of noise (Gaussian/Laplacian)\n",
    "- the sensitivity of the query/function\n",
    "- the desired epsilon (ε)\n",
    "- the desired delta (δ)\n",
    "\n",
    "Thus, for each type of noise we're adding, we have different way of calculating how much to add as a function of sensitivity, epsilon, and delta. We're going to focus on Laplacian noise. Laplacian noise is increased/decreased according to a \"scale\" parameter b. We choose \"b\" based on the following formula.\n",
    "\n",
    "b = sensitivity(query) / epsilon\n",
    "\n",
    "In other words, if we set b to be this value, then we know that we will have a privacy leakage of <= epsilon. Furthermore, the nice thing about Laplace is that it guarantees this with delta == 0. There are some tunings where we can have very low epsilon where delta is non-zero, but we'll ignore them for now.\n",
    "\n",
    "### Querying Repeatedly\n",
    "\n",
    "- if we query the database multiple times - we can simply add the epsilons (Even if we change the amount of noise and their epsilons are not the same)."
   ]
  },
  {
   "cell_type": "code",
   "execution_count": null,
   "metadata": {
    "collapsed": true
   },
   "outputs": [],
   "source": []
  },
  {
   "cell_type": "markdown",
   "metadata": {},
   "source": [
    "# Project: Create a Differentially Private Query\n",
    "\n",
    "In this project, I want you to take what you learned in the previous lesson and create a query function which sums over the database and adds just the right amount of noise such that it satisfies an epsilon constraint. Write a query for both \"sum\" and for \"mean\". Ensure that you use the correct sensitivity measures for both."
   ]
  },
  {
   "cell_type": "code",
   "execution_count": 107,
   "metadata": {},
   "outputs": [],
   "source": [
    "# try this project here!\n",
    "def sum_query(db, epsilon=1.0):\n",
    "    sum_sensitivity = 1.0\n",
    "    return db.float().sum() + np.random.laplace(loc=0, scale=sum_sensitivity/epsilon)"
   ]
  },
  {
   "cell_type": "code",
   "execution_count": 145,
   "metadata": {},
   "outputs": [
    {
     "name": "stdout",
     "output_type": "stream",
     "text": [
      "tensor(484.)\n"
     ]
    },
    {
     "data": {
      "text/plain": [
       "tensor(399.2141)"
      ]
     },
     "execution_count": 145,
     "metadata": {},
     "output_type": "execute_result"
    }
   ],
   "source": [
    "db, _ = mk_dbs(1000)\n",
    "print(db.float().sum())\n",
    "sum_query(db, epsilon=0.01)"
   ]
  },
  {
   "cell_type": "code",
   "execution_count": 146,
   "metadata": {},
   "outputs": [],
   "source": [
    "def mean_query(db, epsilon=1.0):\n",
    "    mean_sensitivity = 1/len(db)\n",
    "    return db.float().mean() + np.random.laplace(loc=0, scale=mean_sensitivity/epsilon)"
   ]
  },
  {
   "cell_type": "code",
   "execution_count": 154,
   "metadata": {},
   "outputs": [
    {
     "name": "stdout",
     "output_type": "stream",
     "text": [
      "tensor(0.5090)\n"
     ]
    },
    {
     "data": {
      "text/plain": [
       "tensor(0.5040)"
      ]
     },
     "execution_count": 154,
     "metadata": {},
     "output_type": "execute_result"
    }
   ],
   "source": [
    "db, _ = mk_dbs(1000)\n",
    "print(db.float().mean())\n",
    "mean_query(db, epsilon=0.1)"
   ]
  },
  {
   "cell_type": "code",
   "execution_count": null,
   "metadata": {
    "collapsed": true
   },
   "outputs": [],
   "source": []
  },
  {
   "cell_type": "markdown",
   "metadata": {},
   "source": [
    "# Lesson: Differential Privacy for Deep Learning\n",
    "\n",
    "So in the last lessons you may have been wondering - what does all of this have to do with Deep Learning? Well, these same techniques we were just studying form the core primitives for how Differential Privacy provides guarantees in the context of Deep Learning. \n",
    "\n",
    "Previously, we defined perfect privacy as \"a query to a database returns the same value even if we remove any person from the database\", and used this intuition in the description of epsilon/delta. In the context of deep learning we have a similar standard.\n",
    "\n",
    "Training a model on a dataset should return the same model even if we remove any person from the dataset.\n",
    "\n",
    "Thus, we've replaced \"querying a database\" with \"training a model on a dataset\". In essence, the training process is a kind of query. However, one should note that this adds two points of complexity which database queries did not have:\n",
    "\n",
    "    1. do we always know where \"people\" are referenced in the dataset?\n",
    "    2. neural models rarely never train to the same output model, even on identical data\n",
    "\n",
    "The answer to (1) is to treat each training example as a single, separate person. Strictly speaking, this is often overly zealous as some training examples have no relevance to people and others may have multiple/partial (consider an image with multiple people contained within it). Thus, localizing exactly where \"people\" are referenced, and thus how much your model would change if people were removed, is challenging.\n",
    "\n",
    "The answer to (2) is also an open problem - but several interesitng proposals have been made. We're going to focus on one of the most popular proposals, PATE.\n",
    "\n",
    "## An Example Scenario: A Health Neural Network\n",
    "\n",
    "First we're going to consider a scenario - you work for a hospital and you have a large collection of images about your patients. However, you don't know what's in them. You would like to use these images to develop a neural network which can automatically classify them, however since your images aren't labeled, they aren't sufficient to train a classifier. \n",
    "\n",
    "However, being a cunning strategist, you realize that you can reach out to 10 partner hospitals which DO have annotated data. It is your hope to train your new classifier on their datasets so that you can automatically label your own. While these hospitals are interested in helping, they have privacy concerns regarding information about their patients. Thus, you will use the following technique to train a classifier which protects the privacy of patients in the other hospitals.\n",
    "\n",
    "- 1) You'll ask each of the 10 hospitals to train a model on their own datasets (All of which have the same kinds of labels)\n",
    "- 2) You'll then use each of the 10 partner models to predict on your local dataset, generating 10 labels for each of your datapoints\n",
    "- 3) Then, for each local data point (now with 10 labels), you will perform a DP query to generate the final true label. This query is a \"max\" function, where \"max\" is the most frequent label across the 10 labels. We will need to add laplacian noise to make this Differentially Private to a certain epsilon/delta constraint.\n",
    "- 4) Finally, we will retrain a new model on our local dataset which now has labels. This will be our final \"DP\" model.\n",
    "\n",
    "So, let's walk through these steps. I will assume you're already familiar with how to train/predict a deep neural network, so we'll skip steps 1 and 2 and work with example data. We'll focus instead on step 3, namely how to perform the DP query for each example using toy data.\n",
    "\n",
    "So, let's say we have 10,000 training examples, and we've got 10 labels for each example (from our 10 \"teacher models\" which were trained directly on private data). Each label is chosen from a set of 10 possible labels (categories) for each image."
   ]
  },
  {
   "cell_type": "code",
   "execution_count": 2,
   "metadata": {},
   "outputs": [],
   "source": [
    "import numpy as np"
   ]
  },
  {
   "cell_type": "code",
   "execution_count": 3,
   "metadata": {},
   "outputs": [],
   "source": [
    "num_teachers = 10 # we're working with 10 partner hospitals\n",
    "num_examples = 10000 # the size of OUR dataset\n",
    "num_labels = 10 # number of lablels for our classifier"
   ]
  },
  {
   "cell_type": "code",
   "execution_count": 4,
   "metadata": {},
   "outputs": [],
   "source": [
    "preds = (np.random.rand(num_teachers, num_examples) * num_labels).astype(int).transpose(1,0) # fake predictions"
   ]
  },
  {
   "cell_type": "code",
   "execution_count": 5,
   "metadata": {},
   "outputs": [],
   "source": [
    "new_labels = list()\n",
    "for an_image in preds:\n",
    "\n",
    "    label_counts = np.bincount(an_image, minlength=num_labels)\n",
    "\n",
    "    epsilon = 0.1\n",
    "    beta = 1 / epsilon\n",
    "\n",
    "    for i in range(len(label_counts)):\n",
    "        label_counts[i] += np.random.laplace(0, beta, 1)\n",
    "\n",
    "    new_label = np.argmax(label_counts)\n",
    "    \n",
    "    new_labels.append(new_label)"
   ]
  },
  {
   "cell_type": "code",
   "execution_count": 57,
   "metadata": {
    "collapsed": true
   },
   "outputs": [],
   "source": [
    "# new_labels"
   ]
  },
  {
   "cell_type": "markdown",
   "metadata": {},
   "source": [
    "# PATE Analysis"
   ]
  },
  {
   "cell_type": "code",
   "execution_count": 6,
   "metadata": {},
   "outputs": [
    {
     "data": {
      "text/plain": [
       "9"
      ]
     },
     "execution_count": 6,
     "metadata": {},
     "output_type": "execute_result"
    }
   ],
   "source": [
    "labels = np.array([9, 9, 3, 6, 9, 9, 9, 9, 8, 2])\n",
    "counts = np.bincount(labels, minlength=10)\n",
    "query_result = np.argmax(counts)\n",
    "query_result"
   ]
  },
  {
   "cell_type": "code",
   "execution_count": 7,
   "metadata": {},
   "outputs": [
    {
     "name": "stderr",
     "output_type": "stream",
     "text": [
      "WARNING:tf_encrypted:Falling back to insecure randomness since the required custom op could not be found for the installed version of TensorFlow (1.13.1). Fix this by compiling custom ops.\n"
     ]
    }
   ],
   "source": [
    "from syft.frameworks.torch.differential_privacy import pate"
   ]
  },
  {
   "cell_type": "code",
   "execution_count": 11,
   "metadata": {},
   "outputs": [
    {
     "name": "stdout",
     "output_type": "stream",
     "text": [
      "Warning: May not have used enough values of l. Increase 'moments' variable and run again.\n"
     ]
    }
   ],
   "source": [
    "num_teachers, num_examples, num_labels = (100, 100, 10)\n",
    "preds = (np.random.rand(num_teachers, num_examples) * num_labels).astype(int) #fake preds\n",
    "indices = (np.random.rand(num_examples) * num_labels).astype(int) # true answers\n",
    "\n",
    "preds[:,0:10] *= 0\n",
    "\n",
    "data_dep_eps, data_ind_eps = pate.perform_analysis(teacher_preds=preds, indices=indices, noise_eps=0.1, delta=1e-5)\n",
    "\n",
    "assert data_dep_eps < data_ind_eps\n",
    "\n"
   ]
  },
  {
   "cell_type": "code",
   "execution_count": 12,
   "metadata": {},
   "outputs": [
    {
     "name": "stdout",
     "output_type": "stream",
     "text": [
      "Warning: May not have used enough values of l. Increase 'moments' variable and run again.\n",
      "Data Independent Epsilon: 11.756462732485115\n",
      "Data Dependent Epsilon: 1.52655213289881\n"
     ]
    }
   ],
   "source": [
    "data_dep_eps, data_ind_eps = pate.perform_analysis(teacher_preds=preds, indices=indices, noise_eps=0.1, delta=1e-5)\n",
    "print(\"Data Independent Epsilon:\", data_ind_eps)\n",
    "print(\"Data Dependent Epsilon:\", data_dep_eps)"
   ]
  },
  {
   "cell_type": "code",
   "execution_count": 13,
   "metadata": {},
   "outputs": [],
   "source": [
    "preds[:,0:50] *= 0"
   ]
  },
  {
   "cell_type": "code",
   "execution_count": 14,
   "metadata": {},
   "outputs": [
    {
     "name": "stdout",
     "output_type": "stream",
     "text": [
      "Data Independent Epsilon: 11.756462732485115\n",
      "Data Dependent Epsilon: 0.9029013677789843\n"
     ]
    }
   ],
   "source": [
    "data_dep_eps, data_ind_eps = pate.perform_analysis(teacher_preds=preds, indices=indices, noise_eps=0.1, delta=1e-5, moments=20)\n",
    "print(\"Data Independent Epsilon:\", data_ind_eps)\n",
    "print(\"Data Dependent Epsilon:\", data_dep_eps)"
   ]
  },
  {
   "cell_type": "code",
   "execution_count": null,
   "metadata": {
    "collapsed": true
   },
   "outputs": [],
   "source": []
  },
  {
   "cell_type": "markdown",
   "metadata": {},
   "source": [
    "# Where to Go From Here\n",
    "\n",
    "\n",
    "Read:\n",
    "    - Algorithmic Foundations of Differential Privacy: https://www.cis.upenn.edu/~aaroth/Papers/privacybook.pdf\n",
    "    - Deep Learning with Differential Privacy: https://arxiv.org/pdf/1607.00133.pdf\n",
    "    - The Ethical Algorithm: https://www.amazon.com/Ethical-Algorithm-Science-Socially-Design/dp/0190948205\n",
    "   \n",
    "Topics:\n",
    "    - The Exponential Mechanism\n",
    "    - The Moment's Accountant\n",
    "    - Differentially Private Stochastic Gradient Descent\n",
    "\n",
    "Advice:\n",
    "    - For deployments - stick with public frameworks!\n",
    "    - Join the Differential Privacy Community\n",
    "    - Don't get ahead of yourself - DP is still in the early days"
   ]
  },
  {
   "cell_type": "code",
   "execution_count": null,
   "metadata": {
    "collapsed": true
   },
   "outputs": [],
   "source": []
  },
  {
   "cell_type": "code",
   "execution_count": null,
   "metadata": {
    "collapsed": true
   },
   "outputs": [],
   "source": []
  },
  {
   "cell_type": "markdown",
   "metadata": {},
   "source": [
    "# Section Project:\n",
    "\n",
    "For the final project for this section, you're going to train a DP model using this PATE method on the MNIST dataset, provided below."
   ]
  },
  {
   "cell_type": "code",
   "execution_count": 72,
   "metadata": {},
   "outputs": [],
   "source": [
    "import torchvision.datasets as datasets\n",
    "from torchvision import transforms\n",
    "\n",
    "transform = transforms.Compose([transforms.Grayscale(3),\n",
    "                                transforms.ToTensor(),\n",
    "                                transforms.Normalize((0.485, 0.456, 0.406),\n",
    "                                                     (0.229, 0.224, 0.225))])\n",
    "\n",
    "mnist_trainset = datasets.MNIST(root='./data', train=True, download=True, transform=transform)\n",
    "mnist_testset = datasets.MNIST(root='./data', train=False, download=True, transform=transform)"
   ]
  },
  {
   "cell_type": "markdown",
   "metadata": {
    "collapsed": true
   },
   "source": [
    "Model architecture:"
   ]
  },
  {
   "cell_type": "code",
   "execution_count": 60,
   "metadata": {},
   "outputs": [],
   "source": [
    "from collections import namedtuple\n",
    "\n",
    "import torch\n",
    "from torch import nn\n",
    "from torch import optim\n",
    "from torchvision import models\n",
    "\n",
    "Harness = namedtuple('Model', ['model', 'criterion', 'optimizer'])\n",
    "\n",
    "n_classes = len(set(mnist_trainset.targets.tolist()))\n",
    "\n",
    "def mk_model() -> Harness:\n",
    "    device = torch.device('cuda' if torch.cuda.is_available() else 'cpu')\n",
    "    model = models.densenet121(pretrained=True)\n",
    "\n",
    "    for param in model.parameters():\n",
    "        param.requires_grad = False\n",
    "\n",
    "    model.classifier = nn.Sequential(nn.Linear(1024, 256),\n",
    "                                     nn.ReLU(),\n",
    "                                     nn.Dropout(0.2),\n",
    "                                     nn.Linear(256, n_classes),\n",
    "                                     nn.LogSoftmax(dim=1))\n",
    "    criterion = nn.NLLLoss()\n",
    "    optimizer = optim.Adam(model.classifier.parameters(), lr=0.003)\n",
    "    model.to(device)\n",
    "    return Harness(model, criterion, optimizer)"
   ]
  },
  {
   "cell_type": "markdown",
   "metadata": {},
   "source": [
    "Partition the training set:"
   ]
  },
  {
   "cell_type": "code",
   "execution_count": 6,
   "metadata": {},
   "outputs": [],
   "source": [
    "from torch.utils.data import DataLoader, Subset\n",
    "n_teachers = 10\n",
    "\n",
    "teacher_assignment = (torch.rand(60000) * n_teachers).int()\n",
    "\n",
    "teacher_trainset = []\n",
    "\n",
    "for teacher_idx in range(n_teachers):\n",
    "    example_indices = [ix for ix, t in enumerate(teacher_assignment) if t == teacher_idx]\n",
    "    teacher_trainset.append(DataLoader(Subset(mnist_trainset, example_indices), batch_size=64, shuffle=True))"
   ]
  },
  {
   "cell_type": "markdown",
   "metadata": {},
   "source": [
    "Create teacher models:"
   ]
  },
  {
   "cell_type": "code",
   "execution_count": 7,
   "metadata": {},
   "outputs": [],
   "source": [
    "teachers = [mk_model() for _ in range(n_teachers)]"
   ]
  },
  {
   "cell_type": "markdown",
   "metadata": {},
   "source": [
    "The training function:"
   ]
  },
  {
   "cell_type": "code",
   "execution_count": 8,
   "metadata": {},
   "outputs": [],
   "source": [
    "def train(harness: Harness, train_data, test_data=None, epochs=3, print_every=20):\n",
    "    device = torch.device('cuda' if torch.cuda.is_available() else 'cpu')\n",
    "    \n",
    "    train_loss = 0\n",
    "    steps = 0\n",
    "    for epoch in range(epochs):\n",
    "        for inputs, labels in train_data:\n",
    "            steps += 1\n",
    "\n",
    "            inputs, labels = inputs.to(device), labels.to(device)\n",
    "\n",
    "            harness.optimizer.zero_grad()\n",
    "\n",
    "            logps = harness.model.forward(inputs)\n",
    "            loss = harness.criterion(logps, labels)\n",
    "            loss.backward()\n",
    "            harness.optimizer.step()\n",
    "\n",
    "            train_loss += loss.item()\n",
    "\n",
    "            if steps % print_every == 0:\n",
    "                if test_data is not None:\n",
    "                    test_loss = 0\n",
    "                    accuracy = 0\n",
    "                    harness.model.eval()\n",
    "                    with torch.no_grad():\n",
    "                        for inputs, labels in test_data:\n",
    "                            inputs, labels = inputs.to(device), labels.to(device)\n",
    "                            logps = harness.model.forward(inputs)\n",
    "                            batch_loss = harness.criterion(logps, labels)\n",
    "\n",
    "                            test_loss += batch_loss.item()\n",
    "\n",
    "                            ps = torch.exp(logps)\n",
    "                            top_p, top_class = ps.topk(1, dim=1)\n",
    "                            equals = top_class == labels.view(*top_class.shape)\n",
    "                            accuracy += torch.mean(equals.type(torch.FloatTensor)).item()\n",
    "                    print(f\"Epoch {epoch+1}/{epochs} \"\n",
    "                          f\"Train loss: {train_loss/print_every:.3f} \"\n",
    "                          f\"Test loss: {test_loss/len(test_data):.3f} \"\n",
    "                          f\"Test accuracy: {accuracy/len(test_data):.3f}\")\n",
    "                    harness.model.train()\n",
    "                else:\n",
    "                    print(f\"Epoch {epoch+1}/{epochs} \"\n",
    "                          f\"Train loss: {train_loss/print_every:.3f} \")\n",
    "                train_loss = 0"
   ]
  },
  {
   "cell_type": "markdown",
   "metadata": {},
   "source": [
    "Train all teachers:"
   ]
  },
  {
   "cell_type": "code",
   "execution_count": 9,
   "metadata": {
    "scrolled": true
   },
   "outputs": [
    {
     "name": "stdout",
     "output_type": "stream",
     "text": [
      "Training teacher 1 =============================\n",
      "Epoch 1/3 Train loss: 1.909 \n",
      "Epoch 1/3 Train loss: 1.450 \n",
      "Epoch 1/3 Train loss: 1.327 \n",
      "Epoch 1/3 Train loss: 1.298 \n",
      "Epoch 2/3 Train loss: 1.080 \n",
      "Epoch 2/3 Train loss: 1.037 \n",
      "Epoch 2/3 Train loss: 1.017 \n",
      "Epoch 2/3 Train loss: 1.063 \n",
      "Epoch 2/3 Train loss: 1.058 \n",
      "Epoch 3/3 Train loss: 0.909 \n",
      "Epoch 3/3 Train loss: 0.910 \n",
      "Epoch 3/3 Train loss: 0.914 \n",
      "Epoch 3/3 Train loss: 0.931 \n",
      "Training teacher 2 =============================\n",
      "Epoch 1/3 Train loss: 1.974 \n",
      "Epoch 1/3 Train loss: 1.533 \n",
      "Epoch 1/3 Train loss: 1.274 \n",
      "Epoch 1/3 Train loss: 1.255 \n",
      "Epoch 2/3 Train loss: 1.180 \n",
      "Epoch 2/3 Train loss: 1.020 \n",
      "Epoch 2/3 Train loss: 1.036 \n",
      "Epoch 2/3 Train loss: 0.965 \n",
      "Epoch 2/3 Train loss: 0.986 \n",
      "Epoch 3/3 Train loss: 0.975 \n",
      "Epoch 3/3 Train loss: 0.956 \n",
      "Epoch 3/3 Train loss: 0.898 \n",
      "Epoch 3/3 Train loss: 0.919 \n",
      "Training teacher 3 =============================\n",
      "Epoch 1/3 Train loss: 1.954 \n",
      "Epoch 1/3 Train loss: 1.461 \n",
      "Epoch 1/3 Train loss: 1.282 \n",
      "Epoch 1/3 Train loss: 1.166 \n",
      "Epoch 2/3 Train loss: 1.181 \n",
      "Epoch 2/3 Train loss: 1.076 \n",
      "Epoch 2/3 Train loss: 1.012 \n",
      "Epoch 2/3 Train loss: 1.021 \n",
      "Epoch 2/3 Train loss: 1.027 \n",
      "Epoch 3/3 Train loss: 0.984 \n",
      "Epoch 3/3 Train loss: 0.992 \n",
      "Epoch 3/3 Train loss: 0.914 \n",
      "Epoch 3/3 Train loss: 0.901 \n",
      "Epoch 3/3 Train loss: 0.856 \n",
      "Training teacher 4 =============================\n",
      "Epoch 1/3 Train loss: 1.970 \n",
      "Epoch 1/3 Train loss: 1.524 \n",
      "Epoch 1/3 Train loss: 1.327 \n",
      "Epoch 1/3 Train loss: 1.250 \n",
      "Epoch 2/3 Train loss: 1.136 \n",
      "Epoch 2/3 Train loss: 1.023 \n",
      "Epoch 2/3 Train loss: 1.062 \n",
      "Epoch 2/3 Train loss: 1.061 \n",
      "Epoch 2/3 Train loss: 1.003 \n",
      "Epoch 3/3 Train loss: 0.923 \n",
      "Epoch 3/3 Train loss: 0.893 \n",
      "Epoch 3/3 Train loss: 0.906 \n",
      "Epoch 3/3 Train loss: 0.984 \n",
      "Epoch 3/3 Train loss: 0.918 \n",
      "Training teacher 5 =============================\n",
      "Epoch 1/3 Train loss: 1.968 \n",
      "Epoch 1/3 Train loss: 1.522 \n",
      "Epoch 1/3 Train loss: 1.371 \n",
      "Epoch 1/3 Train loss: 1.185 \n",
      "Epoch 2/3 Train loss: 1.159 \n",
      "Epoch 2/3 Train loss: 1.031 \n",
      "Epoch 2/3 Train loss: 1.036 \n",
      "Epoch 2/3 Train loss: 1.053 \n",
      "Epoch 2/3 Train loss: 0.982 \n",
      "Epoch 3/3 Train loss: 0.893 \n",
      "Epoch 3/3 Train loss: 0.916 \n",
      "Epoch 3/3 Train loss: 0.910 \n",
      "Epoch 3/3 Train loss: 0.865 \n",
      "Training teacher 6 =============================\n",
      "Epoch 1/3 Train loss: 2.000 \n",
      "Epoch 1/3 Train loss: 1.533 \n",
      "Epoch 1/3 Train loss: 1.305 \n",
      "Epoch 1/3 Train loss: 1.284 \n",
      "Epoch 2/3 Train loss: 1.118 \n",
      "Epoch 2/3 Train loss: 1.060 \n",
      "Epoch 2/3 Train loss: 1.053 \n",
      "Epoch 2/3 Train loss: 1.064 \n",
      "Epoch 2/3 Train loss: 0.979 \n",
      "Epoch 3/3 Train loss: 1.028 \n",
      "Epoch 3/3 Train loss: 0.892 \n",
      "Epoch 3/3 Train loss: 0.962 \n",
      "Epoch 3/3 Train loss: 0.915 \n",
      "Epoch 3/3 Train loss: 0.987 \n",
      "Training teacher 7 =============================\n",
      "Epoch 1/3 Train loss: 1.924 \n",
      "Epoch 1/3 Train loss: 1.485 \n",
      "Epoch 1/3 Train loss: 1.271 \n",
      "Epoch 1/3 Train loss: 1.162 \n",
      "Epoch 2/3 Train loss: 1.105 \n",
      "Epoch 2/3 Train loss: 0.981 \n",
      "Epoch 2/3 Train loss: 0.991 \n",
      "Epoch 2/3 Train loss: 1.061 \n",
      "Epoch 2/3 Train loss: 1.007 \n",
      "Epoch 3/3 Train loss: 0.932 \n",
      "Epoch 3/3 Train loss: 0.907 \n",
      "Epoch 3/3 Train loss: 0.924 \n",
      "Epoch 3/3 Train loss: 0.878 \n",
      "Epoch 3/3 Train loss: 0.950 \n",
      "Training teacher 8 =============================\n",
      "Epoch 1/3 Train loss: 1.870 \n",
      "Epoch 1/3 Train loss: 1.456 \n",
      "Epoch 1/3 Train loss: 1.316 \n",
      "Epoch 1/3 Train loss: 1.212 \n",
      "Epoch 2/3 Train loss: 1.158 \n",
      "Epoch 2/3 Train loss: 1.123 \n",
      "Epoch 2/3 Train loss: 1.042 \n",
      "Epoch 2/3 Train loss: 0.943 \n",
      "Epoch 2/3 Train loss: 0.996 \n",
      "Epoch 3/3 Train loss: 0.879 \n",
      "Epoch 3/3 Train loss: 0.930 \n",
      "Epoch 3/3 Train loss: 0.916 \n",
      "Epoch 3/3 Train loss: 0.957 \n",
      "Epoch 3/3 Train loss: 0.943 \n",
      "Training teacher 9 =============================\n",
      "Epoch 1/3 Train loss: 2.034 \n",
      "Epoch 1/3 Train loss: 1.559 \n",
      "Epoch 1/3 Train loss: 1.361 \n",
      "Epoch 1/3 Train loss: 1.251 \n",
      "Epoch 2/3 Train loss: 1.131 \n",
      "Epoch 2/3 Train loss: 1.112 \n",
      "Epoch 2/3 Train loss: 1.053 \n",
      "Epoch 2/3 Train loss: 1.082 \n",
      "Epoch 2/3 Train loss: 1.040 \n",
      "Epoch 3/3 Train loss: 1.096 \n",
      "Epoch 3/3 Train loss: 0.964 \n",
      "Epoch 3/3 Train loss: 0.917 \n",
      "Epoch 3/3 Train loss: 0.947 \n",
      "Epoch 3/3 Train loss: 0.956 \n",
      "Training teacher 10 =============================\n",
      "Epoch 1/3 Train loss: 1.891 \n",
      "Epoch 1/3 Train loss: 1.407 \n",
      "Epoch 1/3 Train loss: 1.322 \n",
      "Epoch 1/3 Train loss: 1.177 \n",
      "Epoch 2/3 Train loss: 1.155 \n",
      "Epoch 2/3 Train loss: 1.065 \n",
      "Epoch 2/3 Train loss: 0.998 \n",
      "Epoch 2/3 Train loss: 1.023 \n",
      "Epoch 2/3 Train loss: 0.981 \n",
      "Epoch 3/3 Train loss: 0.949 \n",
      "Epoch 3/3 Train loss: 0.858 \n",
      "Epoch 3/3 Train loss: 0.869 \n",
      "Epoch 3/3 Train loss: 0.890 \n",
      "Epoch 3/3 Train loss: 0.918 \n"
     ]
    }
   ],
   "source": [
    "for i in range(n_teachers):\n",
    "    print(f\"Training teacher {i+1} =============================\")\n",
    "    train(teachers[i], teacher_trainset[i])"
   ]
  },
  {
   "cell_type": "markdown",
   "metadata": {},
   "source": [
    "Generate teacher predictions:"
   ]
  },
  {
   "cell_type": "code",
   "execution_count": 50,
   "metadata": {},
   "outputs": [
    {
     "name": "stderr",
     "output_type": "stream",
     "text": [
      "100%|██████████| 600/600 [03:26<00:00,  2.89it/s]\n"
     ]
    }
   ],
   "source": [
    "from tqdm import tqdm\n",
    "device = torch.device('cuda' if torch.cuda.is_available() else 'cpu')\n",
    "\n",
    "for t in range(n_teachers):\n",
    "    teachers[t].model.eval()\n",
    "\n",
    "batch_size = 100\n",
    "\n",
    "teacher_preds = torch.tensor([]).reshape(-1, n_teachers).int()\n",
    "with torch.no_grad():\n",
    "    for inputs, _ in tqdm(DataLoader(mnist_trainset, batch_size=batch_size, shuffle=False)):\n",
    "        batch_preds = torch.tensor([]).reshape((batch_size, -1)).int()\n",
    "        for t in range(n_teachers):\n",
    "            logps = teachers[t].model.forward(inputs.to(device))\n",
    "            ps = torch.exp(logps)\n",
    "            _, top_class = ps.topk(1, dim=1)\n",
    "            batch_preds = torch.cat((batch_preds, top_class.to('cpu').int()), dim=1)\n",
    "        teacher_preds = torch.cat((teacher_preds, batch_preds), dim=0)"
   ]
  },
  {
   "cell_type": "code",
   "execution_count": 51,
   "metadata": {},
   "outputs": [
    {
     "data": {
      "text/plain": [
       "torch.Size([60000, 10])"
      ]
     },
     "execution_count": 51,
     "metadata": {},
     "output_type": "execute_result"
    }
   ],
   "source": [
    "teacher_preds.shape"
   ]
  },
  {
   "cell_type": "code",
   "execution_count": 52,
   "metadata": {},
   "outputs": [
    {
     "data": {
      "text/plain": [
       "tensor([[7, 5, 8, 7, 5, 5, 3, 5, 7, 7],\n",
       "        [0, 0, 0, 0, 0, 0, 0, 0, 0, 0],\n",
       "        [4, 4, 4, 4, 4, 4, 4, 4, 4, 4],\n",
       "        [1, 1, 1, 1, 1, 1, 1, 1, 1, 1],\n",
       "        [9, 9, 9, 9, 9, 9, 9, 9, 9, 9],\n",
       "        [2, 5, 2, 2, 2, 5, 2, 2, 5, 5],\n",
       "        [1, 7, 1, 1, 1, 3, 1, 7, 1, 1],\n",
       "        [3, 3, 3, 3, 3, 3, 3, 3, 3, 3],\n",
       "        [1, 1, 1, 1, 1, 1, 1, 1, 1, 1],\n",
       "        [4, 4, 4, 4, 4, 4, 4, 4, 4, 4]], dtype=torch.int32)"
      ]
     },
     "execution_count": 52,
     "metadata": {},
     "output_type": "execute_result"
    }
   ],
   "source": [
    "teacher_preds[:10]"
   ]
  },
  {
   "cell_type": "markdown",
   "metadata": {},
   "source": [
    "Create noisy labels from teacher predictions:"
   ]
  },
  {
   "cell_type": "code",
   "execution_count": 67,
   "metadata": {},
   "outputs": [
    {
     "name": "stderr",
     "output_type": "stream",
     "text": [
      "100%|██████████| 60000/60000 [00:10<00:00, 5782.50it/s]\n"
     ]
    }
   ],
   "source": [
    "import numpy as np\n",
    "noisy_labels = []\n",
    "noise_epsilon = 1.0\n",
    "\n",
    "for i in tqdm(range(len(teacher_preds))):\n",
    "    class_counts = np.bincount(teacher_preds[i], minlength=n_classes)\n",
    "    for i in range(len(class_counts)):\n",
    "        class_counts[i] += np.random.laplace(0, 1/noise_epsilon, 1)\n",
    "    label = np.argmax(class_counts)\n",
    "    noisy_labels.append(label)"
   ]
  },
  {
   "cell_type": "code",
   "execution_count": 68,
   "metadata": {},
   "outputs": [
    {
     "data": {
      "text/plain": [
       "[7, 0, 4, 1, 9, 2, 1, 3, 1, 4]"
      ]
     },
     "execution_count": 68,
     "metadata": {},
     "output_type": "execute_result"
    }
   ],
   "source": [
    "noisy_labels[:10]"
   ]
  },
  {
   "cell_type": "code",
   "execution_count": 73,
   "metadata": {},
   "outputs": [
    {
     "data": {
      "text/plain": [
       "tensor([5, 0, 4, 1, 9, 2, 1, 3, 1, 4])"
      ]
     },
     "execution_count": 73,
     "metadata": {},
     "output_type": "execute_result"
    }
   ],
   "source": [
    "mnist_trainset.targets[:10]"
   ]
  },
  {
   "cell_type": "markdown",
   "metadata": {},
   "source": [
    "What does PATE analysis tell us?"
   ]
  },
  {
   "cell_type": "code",
   "execution_count": 92,
   "metadata": {},
   "outputs": [
    {
     "name": "stdout",
     "output_type": "stream",
     "text": [
      "Warning: May not have used enough values of l. Increase 'moments' variable and run again.\n"
     ]
    },
    {
     "data": {
      "text/plain": [
       "(120005.75646273249, 120005.75646273249)"
      ]
     },
     "execution_count": 92,
     "metadata": {},
     "output_type": "execute_result"
    }
   ],
   "source": [
    "from syft.frameworks.torch.differential_privacy import pate\n",
    "pate.perform_analysis(teacher_preds=teacher_preds.view(n_teachers,-1).numpy(),\n",
    "                      indices=mnist_trainset.targets.numpy(),\n",
    "                      noise_eps=noise_epsilon,\n",
    "                      moments=2)"
   ]
  },
  {
   "cell_type": "markdown",
   "metadata": {},
   "source": [
    "Nothing useful. With our choice of noise epsilon the effective DP epsilon is huge. Can't use more moments because pysyft crashes."
   ]
  },
  {
   "cell_type": "code",
   "execution_count": 93,
   "metadata": {},
   "outputs": [],
   "source": [
    "mnist_trainset.targets = torch.tensor(noisy_labels)"
   ]
  },
  {
   "cell_type": "code",
   "execution_count": 94,
   "metadata": {},
   "outputs": [
    {
     "data": {
      "text/plain": [
       "tensor([7, 0, 4, 1, 9, 2, 1, 3, 1, 4])"
      ]
     },
     "execution_count": 94,
     "metadata": {},
     "output_type": "execute_result"
    }
   ],
   "source": [
    "mnist_trainset.targets[:10]"
   ]
  },
  {
   "cell_type": "markdown",
   "metadata": {},
   "source": [
    "Train a model on noisy labels:"
   ]
  },
  {
   "cell_type": "code",
   "execution_count": 96,
   "metadata": {
    "scrolled": false
   },
   "outputs": [
    {
     "name": "stdout",
     "output_type": "stream",
     "text": [
      "Epoch 1/3 Train loss: 2.055 Test loss: 2.194 Test accuracy: 0.203\n",
      "Epoch 1/3 Train loss: 1.467 Test loss: 1.545 Test accuracy: 0.495\n",
      "Epoch 1/3 Train loss: 1.284 Test loss: 1.216 Test accuracy: 0.635\n",
      "Epoch 1/3 Train loss: 1.079 Test loss: 1.178 Test accuracy: 0.656\n",
      "Epoch 1/3 Train loss: 1.098 Test loss: 1.056 Test accuracy: 0.692\n",
      "Epoch 1/3 Train loss: 0.973 Test loss: 1.078 Test accuracy: 0.684\n",
      "Epoch 1/3 Train loss: 0.987 Test loss: 1.022 Test accuracy: 0.698\n",
      "Epoch 1/3 Train loss: 0.948 Test loss: 0.969 Test accuracy: 0.712\n",
      "Epoch 1/3 Train loss: 0.861 Test loss: 0.948 Test accuracy: 0.718\n",
      "Epoch 1/3 Train loss: 0.895 Test loss: 0.965 Test accuracy: 0.708\n",
      "Epoch 1/3 Train loss: 0.810 Test loss: 0.956 Test accuracy: 0.720\n",
      "Epoch 1/3 Train loss: 0.859 Test loss: 0.911 Test accuracy: 0.722\n",
      "Epoch 1/3 Train loss: 0.917 Test loss: 0.900 Test accuracy: 0.725\n",
      "Epoch 1/3 Train loss: 0.893 Test loss: 0.869 Test accuracy: 0.732\n",
      "Epoch 1/3 Train loss: 0.903 Test loss: 0.863 Test accuracy: 0.729\n",
      "Epoch 1/3 Train loss: 0.888 Test loss: 0.859 Test accuracy: 0.735\n",
      "Epoch 1/3 Train loss: 0.844 Test loss: 0.869 Test accuracy: 0.731\n",
      "Epoch 1/3 Train loss: 0.863 Test loss: 0.861 Test accuracy: 0.735\n",
      "Epoch 1/3 Train loss: 0.839 Test loss: 0.899 Test accuracy: 0.725\n",
      "Epoch 1/3 Train loss: 0.879 Test loss: 0.887 Test accuracy: 0.727\n",
      "Epoch 1/3 Train loss: 0.916 Test loss: 0.925 Test accuracy: 0.719\n",
      "Epoch 1/3 Train loss: 0.902 Test loss: 0.943 Test accuracy: 0.711\n",
      "Epoch 1/3 Train loss: 0.821 Test loss: 0.860 Test accuracy: 0.734\n",
      "Epoch 1/3 Train loss: 0.884 Test loss: 0.835 Test accuracy: 0.741\n",
      "Epoch 1/3 Train loss: 0.804 Test loss: 0.838 Test accuracy: 0.744\n",
      "Epoch 1/3 Train loss: 0.879 Test loss: 0.890 Test accuracy: 0.729\n",
      "Epoch 1/3 Train loss: 0.875 Test loss: 0.852 Test accuracy: 0.738\n",
      "Epoch 1/3 Train loss: 0.837 Test loss: 0.876 Test accuracy: 0.739\n",
      "Epoch 1/3 Train loss: 0.888 Test loss: 0.899 Test accuracy: 0.716\n",
      "Epoch 1/3 Train loss: 0.835 Test loss: 0.889 Test accuracy: 0.731\n",
      "Epoch 1/3 Train loss: 0.818 Test loss: 0.878 Test accuracy: 0.733\n",
      "Epoch 1/3 Train loss: 0.815 Test loss: 0.824 Test accuracy: 0.743\n",
      "Epoch 1/3 Train loss: 0.845 Test loss: 0.853 Test accuracy: 0.732\n",
      "Epoch 1/3 Train loss: 0.870 Test loss: 0.849 Test accuracy: 0.739\n",
      "Epoch 1/3 Train loss: 0.820 Test loss: 0.825 Test accuracy: 0.746\n",
      "Epoch 1/3 Train loss: 0.815 Test loss: 0.895 Test accuracy: 0.736\n",
      "Epoch 1/3 Train loss: 0.815 Test loss: 0.821 Test accuracy: 0.752\n",
      "Epoch 1/3 Train loss: 0.829 Test loss: 0.778 Test accuracy: 0.756\n",
      "Epoch 1/3 Train loss: 0.841 Test loss: 0.805 Test accuracy: 0.749\n",
      "Epoch 1/3 Train loss: 0.768 Test loss: 0.828 Test accuracy: 0.749\n",
      "Epoch 1/3 Train loss: 0.749 Test loss: 0.890 Test accuracy: 0.735\n",
      "Epoch 1/3 Train loss: 0.742 Test loss: 0.829 Test accuracy: 0.739\n",
      "Epoch 1/3 Train loss: 0.848 Test loss: 0.872 Test accuracy: 0.740\n",
      "Epoch 1/3 Train loss: 0.807 Test loss: 0.833 Test accuracy: 0.748\n",
      "Epoch 1/3 Train loss: 0.757 Test loss: 0.840 Test accuracy: 0.742\n",
      "Epoch 1/3 Train loss: 0.769 Test loss: 0.873 Test accuracy: 0.740\n",
      "Epoch 2/3 Train loss: 0.764 Test loss: 0.901 Test accuracy: 0.735\n",
      "Epoch 2/3 Train loss: 0.855 Test loss: 0.777 Test accuracy: 0.758\n",
      "Epoch 2/3 Train loss: 0.764 Test loss: 0.808 Test accuracy: 0.757\n",
      "Epoch 2/3 Train loss: 0.775 Test loss: 0.822 Test accuracy: 0.751\n",
      "Epoch 2/3 Train loss: 0.717 Test loss: 0.811 Test accuracy: 0.753\n",
      "Epoch 2/3 Train loss: 0.858 Test loss: 0.806 Test accuracy: 0.754\n",
      "Epoch 2/3 Train loss: 0.726 Test loss: 0.814 Test accuracy: 0.757\n",
      "Epoch 2/3 Train loss: 0.715 Test loss: 0.827 Test accuracy: 0.753\n",
      "Epoch 2/3 Train loss: 0.815 Test loss: 0.798 Test accuracy: 0.751\n",
      "Epoch 2/3 Train loss: 0.759 Test loss: 0.828 Test accuracy: 0.744\n",
      "Epoch 2/3 Train loss: 0.691 Test loss: 0.812 Test accuracy: 0.753\n",
      "Epoch 2/3 Train loss: 0.757 Test loss: 0.842 Test accuracy: 0.744\n",
      "Epoch 2/3 Train loss: 0.823 Test loss: 0.819 Test accuracy: 0.743\n",
      "Epoch 2/3 Train loss: 0.712 Test loss: 0.851 Test accuracy: 0.745\n",
      "Epoch 2/3 Train loss: 0.874 Test loss: 0.845 Test accuracy: 0.743\n",
      "Epoch 2/3 Train loss: 0.802 Test loss: 0.838 Test accuracy: 0.755\n",
      "Epoch 2/3 Train loss: 0.756 Test loss: 0.845 Test accuracy: 0.744\n",
      "Epoch 2/3 Train loss: 0.786 Test loss: 0.797 Test accuracy: 0.746\n",
      "Epoch 2/3 Train loss: 0.810 Test loss: 0.819 Test accuracy: 0.754\n",
      "Epoch 2/3 Train loss: 0.804 Test loss: 0.884 Test accuracy: 0.743\n",
      "Epoch 2/3 Train loss: 0.796 Test loss: 0.784 Test accuracy: 0.757\n",
      "Epoch 2/3 Train loss: 0.751 Test loss: 0.906 Test accuracy: 0.745\n",
      "Epoch 2/3 Train loss: 0.830 Test loss: 0.824 Test accuracy: 0.754\n",
      "Epoch 2/3 Train loss: 0.771 Test loss: 0.804 Test accuracy: 0.756\n",
      "Epoch 2/3 Train loss: 0.776 Test loss: 0.853 Test accuracy: 0.742\n",
      "Epoch 2/3 Train loss: 0.765 Test loss: 0.840 Test accuracy: 0.740\n",
      "Epoch 2/3 Train loss: 0.858 Test loss: 0.803 Test accuracy: 0.750\n",
      "Epoch 2/3 Train loss: 0.789 Test loss: 0.754 Test accuracy: 0.768\n",
      "Epoch 2/3 Train loss: 0.713 Test loss: 0.833 Test accuracy: 0.754\n",
      "Epoch 2/3 Train loss: 0.784 Test loss: 0.803 Test accuracy: 0.756\n",
      "Epoch 2/3 Train loss: 0.803 Test loss: 0.829 Test accuracy: 0.758\n",
      "Epoch 2/3 Train loss: 0.765 Test loss: 0.808 Test accuracy: 0.756\n",
      "Epoch 2/3 Train loss: 0.704 Test loss: 0.799 Test accuracy: 0.759\n",
      "Epoch 2/3 Train loss: 0.814 Test loss: 0.779 Test accuracy: 0.765\n",
      "Epoch 2/3 Train loss: 0.818 Test loss: 0.780 Test accuracy: 0.764\n",
      "Epoch 2/3 Train loss: 0.816 Test loss: 0.740 Test accuracy: 0.767\n",
      "Epoch 2/3 Train loss: 0.792 Test loss: 0.772 Test accuracy: 0.764\n",
      "Epoch 2/3 Train loss: 0.728 Test loss: 0.791 Test accuracy: 0.760\n",
      "Epoch 2/3 Train loss: 0.782 Test loss: 0.755 Test accuracy: 0.762\n",
      "Epoch 2/3 Train loss: 0.782 Test loss: 0.769 Test accuracy: 0.769\n",
      "Epoch 2/3 Train loss: 0.833 Test loss: 0.785 Test accuracy: 0.763\n",
      "Epoch 2/3 Train loss: 0.768 Test loss: 0.790 Test accuracy: 0.762\n",
      "Epoch 2/3 Train loss: 0.721 Test loss: 0.813 Test accuracy: 0.758\n",
      "Epoch 2/3 Train loss: 0.749 Test loss: 0.776 Test accuracy: 0.762\n",
      "Epoch 2/3 Train loss: 0.764 Test loss: 0.834 Test accuracy: 0.749\n",
      "Epoch 2/3 Train loss: 0.773 Test loss: 0.795 Test accuracy: 0.758\n",
      "Epoch 2/3 Train loss: 0.797 Test loss: 0.812 Test accuracy: 0.762\n",
      "Epoch 3/3 Train loss: 0.822 Test loss: 0.826 Test accuracy: 0.755\n",
      "Epoch 3/3 Train loss: 0.755 Test loss: 0.825 Test accuracy: 0.752\n",
      "Epoch 3/3 Train loss: 0.731 Test loss: 0.770 Test accuracy: 0.762\n",
      "Epoch 3/3 Train loss: 0.756 Test loss: 0.803 Test accuracy: 0.766\n",
      "Epoch 3/3 Train loss: 0.706 Test loss: 0.856 Test accuracy: 0.748\n",
      "Epoch 3/3 Train loss: 0.734 Test loss: 0.860 Test accuracy: 0.750\n",
      "Epoch 3/3 Train loss: 0.764 Test loss: 0.762 Test accuracy: 0.756\n",
      "Epoch 3/3 Train loss: 0.804 Test loss: 0.741 Test accuracy: 0.768\n",
      "Epoch 3/3 Train loss: 0.699 Test loss: 0.788 Test accuracy: 0.761\n",
      "Epoch 3/3 Train loss: 0.759 Test loss: 0.796 Test accuracy: 0.762\n",
      "Epoch 3/3 Train loss: 0.757 Test loss: 0.808 Test accuracy: 0.757\n",
      "Epoch 3/3 Train loss: 0.824 Test loss: 0.770 Test accuracy: 0.761\n",
      "Epoch 3/3 Train loss: 0.760 Test loss: 0.800 Test accuracy: 0.767\n",
      "Epoch 3/3 Train loss: 0.782 Test loss: 0.771 Test accuracy: 0.770\n",
      "Epoch 3/3 Train loss: 0.720 Test loss: 0.830 Test accuracy: 0.760\n",
      "Epoch 3/3 Train loss: 0.759 Test loss: 0.773 Test accuracy: 0.760\n",
      "Epoch 3/3 Train loss: 0.776 Test loss: 0.769 Test accuracy: 0.764\n",
      "Epoch 3/3 Train loss: 0.725 Test loss: 0.742 Test accuracy: 0.774\n",
      "Epoch 3/3 Train loss: 0.780 Test loss: 0.749 Test accuracy: 0.768\n",
      "Epoch 3/3 Train loss: 0.769 Test loss: 0.802 Test accuracy: 0.759\n",
      "Epoch 3/3 Train loss: 0.789 Test loss: 0.794 Test accuracy: 0.759\n",
      "Epoch 3/3 Train loss: 0.725 Test loss: 0.796 Test accuracy: 0.762\n",
      "Epoch 3/3 Train loss: 0.774 Test loss: 0.783 Test accuracy: 0.771\n",
      "Epoch 3/3 Train loss: 0.768 Test loss: 0.791 Test accuracy: 0.762\n",
      "Epoch 3/3 Train loss: 0.755 Test loss: 0.822 Test accuracy: 0.753\n",
      "Epoch 3/3 Train loss: 0.807 Test loss: 0.791 Test accuracy: 0.760\n",
      "Epoch 3/3 Train loss: 0.746 Test loss: 0.842 Test accuracy: 0.758\n",
      "Epoch 3/3 Train loss: 0.727 Test loss: 0.777 Test accuracy: 0.769\n",
      "Epoch 3/3 Train loss: 0.778 Test loss: 0.789 Test accuracy: 0.762\n",
      "Epoch 3/3 Train loss: 0.771 Test loss: 0.760 Test accuracy: 0.771\n",
      "Epoch 3/3 Train loss: 0.797 Test loss: 0.784 Test accuracy: 0.765\n",
      "Epoch 3/3 Train loss: 0.740 Test loss: 0.791 Test accuracy: 0.760\n"
     ]
    },
    {
     "name": "stdout",
     "output_type": "stream",
     "text": [
      "Epoch 3/3 Train loss: 0.832 Test loss: 0.749 Test accuracy: 0.774\n",
      "Epoch 3/3 Train loss: 0.720 Test loss: 0.739 Test accuracy: 0.777\n",
      "Epoch 3/3 Train loss: 0.775 Test loss: 0.780 Test accuracy: 0.768\n",
      "Epoch 3/3 Train loss: 0.730 Test loss: 0.822 Test accuracy: 0.756\n",
      "Epoch 3/3 Train loss: 0.714 Test loss: 0.829 Test accuracy: 0.757\n",
      "Epoch 3/3 Train loss: 0.785 Test loss: 0.783 Test accuracy: 0.757\n",
      "Epoch 3/3 Train loss: 0.763 Test loss: 0.787 Test accuracy: 0.758\n",
      "Epoch 3/3 Train loss: 0.694 Test loss: 0.793 Test accuracy: 0.761\n",
      "Epoch 3/3 Train loss: 0.757 Test loss: 0.801 Test accuracy: 0.765\n",
      "Epoch 3/3 Train loss: 0.765 Test loss: 0.787 Test accuracy: 0.759\n",
      "Epoch 3/3 Train loss: 0.717 Test loss: 0.808 Test accuracy: 0.752\n",
      "Epoch 3/3 Train loss: 0.698 Test loss: 0.819 Test accuracy: 0.765\n",
      "Epoch 3/3 Train loss: 0.741 Test loss: 0.779 Test accuracy: 0.760\n",
      "Epoch 3/3 Train loss: 0.725 Test loss: 0.791 Test accuracy: 0.767\n",
      "Epoch 3/3 Train loss: 0.745 Test loss: 0.756 Test accuracy: 0.768\n"
     ]
    }
   ],
   "source": [
    "dp = mk_model()\n",
    "train(dp,\n",
    "      train_data=DataLoader(mnist_trainset, batch_size=64, shuffle=True),\n",
    "      test_data=DataLoader(mnist_testset, batch_size=64, shuffle=False))"
   ]
  },
  {
   "cell_type": "markdown",
   "metadata": {},
   "source": [
    "That's not a great performance, but perhaps (?) it's at least somewhat private..."
   ]
  },
  {
   "cell_type": "code",
   "execution_count": null,
   "metadata": {},
   "outputs": [],
   "source": []
  }
 ],
 "metadata": {
  "kernelspec": {
   "display_name": "Python 3",
   "language": "python",
   "name": "python3"
  },
  "language_info": {
   "codemirror_mode": {
    "name": "ipython",
    "version": 3
   },
   "file_extension": ".py",
   "mimetype": "text/x-python",
   "name": "python",
   "nbconvert_exporter": "python",
   "pygments_lexer": "ipython3",
   "version": "3.7.3"
  }
 },
 "nbformat": 4,
 "nbformat_minor": 2
}
